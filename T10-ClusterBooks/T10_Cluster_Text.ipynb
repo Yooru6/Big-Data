{
 "cells": [
  {
   "cell_type": "code",
   "execution_count": 570,
   "metadata": {},
   "outputs": [],
   "source": [
    "import os\n",
    "import tensorflow as tf\n",
    "from tensorflow.keras.preprocessing.text import Tokenizer\n",
    "from tensorflow.keras.preprocessing.text import text_to_word_sequence\n",
    "from keras.utils import np_utils\n",
    "import pandas as pd\n",
    "import numpy as np\n",
    "from nltk.tokenize import RegexpTokenizer\n",
    "import pprint\n",
    "from collections import Counter\n",
    "import re\n",
    "#from sklearn.utils import shuffle\n",
    "from gensim.models import Word2Vec\n",
    "import nltk\n",
    "from sklearn.cluster import KMeans\n",
    "from sklearn import cluster\n",
    "from sklearn.decomposition import PCA\n",
    "from scipy.cluster import hierarchy\n",
    "from sklearn.cluster import AgglomerativeClustering\n"
   ]
  },
  {
   "cell_type": "markdown",
   "metadata": {},
   "source": [
    "## Tiedostojen tiedostonimet"
   ]
  },
  {
   "cell_type": "code",
   "execution_count": 680,
   "metadata": {},
   "outputs": [],
   "source": [
    "mark1 = 'Adventures of Huckleberry Finn by Mark Twain.txt' #this is the file path to the saved text file\n",
    "mark2 = 'Life on the Mississippi by Mark Twain.txt' #this is the file path to the saved text file\n",
    "mark3 = 'The Adventures of Tom Sawyer by Mark Twain.txt' #this is the file path to the saved text file\n",
    "\n",
    "oscar1 = 'The Happy Prince, and Other Tales by Oscar Wilde.txt' #this is the file path to the saved text file\n",
    "oscar2 = 'The Importance of Being Earnest A Trivial Comedy for Serious People by Oscar Wilde.txt' #this is the file path to the saved text file\n",
    "oscar3 = 'The Picture of Dorian Gray by Oscar Wilde.txt' #this is the file path to the saved text file\n",
    "\n",
    "kirjalista=[mark1,mark2,mark3,oscar1,oscar2,oscar3]"
   ]
  },
  {
   "cell_type": "code",
   "execution_count": 681,
   "metadata": {},
   "outputs": [
    {
     "name": "stdout",
     "output_type": "stream",
     "text": [
      "566407\n",
      "795221\n",
      "386670\n",
      "86728\n",
      "118517\n",
      "450301\n"
     ]
    }
   ],
   "source": [
    "## Merkki määrät kirjoista\n",
    "for i in range(6):\n",
    "    text = open(kirjalista[i], encoding=\"utf-8\").read()\n",
    "    print(len(text))"
   ]
  },
  {
   "cell_type": "markdown",
   "metadata": {},
   "source": [
    "## Teksti datan lataaminen ja editointi\n",
    "-pienaakkoset<br>\n",
    "-pilkkominen sanoihin<br>\n",
    "-Stemmaaminen<br>\n",
    "-Sanojen listaus<br>\n",
    "-filtteröinti"
   ]
  },
  {
   "cell_type": "code",
   "execution_count": 712,
   "metadata": {},
   "outputs": [
    {
     "name": "stderr",
     "output_type": "stream",
     "text": [
      "[nltk_data] Downloading package stopwords to\n",
      "[nltk_data]     C:\\Users\\Yooru\\AppData\\Roaming\\nltk_data...\n",
      "[nltk_data]   Package stopwords is already up-to-date!\n"
     ]
    }
   ],
   "source": [
    "from nltk.tokenize import WordPunctTokenizer\n",
    "from nltk.stem.porter import *\n",
    "import re \n",
    "nltk.download(\"stopwords\")\n",
    "from nltk.corpus import stopwords \n",
    "stop_words = set(stopwords.words('english'))\n",
    "#from nltk.stem.snowball import SnowballStemmer\n",
    "import nltk\n",
    "\n",
    "books_list=[]\n",
    "# Käy kaikki kirja yksitellen läpi\n",
    "for i in range (6):\n",
    "    \n",
    "    # Avaa kirja\n",
    "    text = open(kirjalista[i], encoding=\"utf-8\").read()\n",
    "    \n",
    "    # Kirjan data pienaakkosiin\n",
    "    text=text.lower()\n",
    "\n",
    "    # Pilko data sanoihin\n",
    "    tk = WordPunctTokenizer() \n",
    "    text_tokenized=tk.tokenize(text)\n",
    "\n",
    "    # Porter Stemmer\n",
    "    porter = nltk.PorterStemmer()#PorterStemmer()\n",
    "    stemd_data =[porter.stem(t) for t in text_tokenized]\n",
    "\n",
    "    # Tee lista kirjan tekstissä esiintyvistä sanoista\n",
    "    countsT=Counter()\n",
    "    countsT.update(stemd_data)\n",
    "    words=sorted(countsT,key=countsT.get,reverse=True)#reverse=True\n",
    "\n",
    "    # Filteröi kaikki paitsi aakkosmuotoiset sanat\n",
    "    words = [item for item in words if item.isalpha()]#Poista numerot   \n",
    "    \n",
    "    filtered_words=[]\n",
    "    \n",
    "    #Poista lopetus sanat\n",
    "    filtered_words = [w for w in words if not w in stop_words] \n",
    "\n",
    "    # Lisää suodatettu lista listaan\n",
    "    books_list.append(sorted(filtered_words))\n"
   ]
  },
  {
   "cell_type": "code",
   "execution_count": 713,
   "metadata": {},
   "outputs": [
    {
     "name": "stdout",
     "output_type": "stream",
     "text": [
      "1  :  4182\n",
      "2  :  7432\n",
      "3  :  4954\n",
      "4  :  1682\n",
      "5  :  1894\n",
      "6  :  4887\n"
     ]
    }
   ],
   "source": [
    "#print(words)\n",
    "for i in range (len(books_list)):\n",
    "    print(i+1,\" : \", len(books_list[i]))"
   ]
  },
  {
   "cell_type": "markdown",
   "metadata": {},
   "source": [
    "## Sanojen vektorisointi"
   ]
  },
  {
   "cell_type": "code",
   "execution_count": 719,
   "metadata": {},
   "outputs": [
    {
     "name": "stderr",
     "output_type": "stream",
     "text": [
      "C:\\Users\\Yooru\\Anaconda3\\lib\\site-packages\\ipykernel_launcher.py:9: DeprecationWarning: Call to deprecated `__getitem__` (Method will be removed in 4.0.0, use self.wv.__getitem__() instead).\n",
      "  if __name__ == '__main__':\n",
      "C:\\Users\\Yooru\\Anaconda3\\lib\\site-packages\\ipykernel_launcher.py:11: DeprecationWarning: Call to deprecated `__getitem__` (Method will be removed in 4.0.0, use self.wv.__getitem__() instead).\n",
      "  # This is added back by InteractiveShellApp.init_path()\n"
     ]
    }
   ],
   "source": [
    "m = Word2Vec(books_list,size=1682,min_count=2,sg=1)\n",
    "#size = vektorin pituus(vähiten sanoja sisältäneen listan pituus)\n",
    "#sg=1 ignore kielioppi\n",
    "\n",
    "#Hae numero muotoinen vektori data Wor2Vector muuttujasta\n",
    "def vectorisoi(sent,m):\n",
    "    vec=[]\n",
    "    numw = 0   \n",
    "    for w in sent:\n",
    "        try:\n",
    "            if numw ==0:\n",
    "                vec=m[w]\n",
    "            else:\n",
    "                vec = np.add(vec, m[w])\n",
    "            numw+=1\n",
    "        except:\n",
    "            pass\n",
    "            \n",
    "    #Normalisoi vektorin data jakamalla vektori sanojen määrä / 2000\n",
    "    return np.asarray(vec)/(numw/2000)\n",
    "\n",
    "# Luo opetus data\n",
    "l=[]\n",
    "for i in stemlist:\n",
    "    l.append(vectorisoi(i,m))\n",
    "X=np.array(l)\n",
    "            "
   ]
  },
  {
   "cell_type": "code",
   "execution_count": 720,
   "metadata": {},
   "outputs": [
    {
     "name": "stdout",
     "output_type": "stream",
     "text": [
      "[[-0.05300269  0.01391668 -0.0245139  ... -0.00852191 -0.014141\n",
      "  -0.01940071]\n",
      " [-0.05062225  0.0172745  -0.0243464  ... -0.00507817 -0.01257453\n",
      "  -0.01083271]\n",
      " [-0.04948639  0.0153675  -0.02829333 ... -0.00398063 -0.01715179\n",
      "  -0.00782943]\n",
      " [-0.0746822   0.03181595 -0.03780325 ... -0.01259295 -0.02747934\n",
      "  -0.00772257]\n",
      " [-0.06204412  0.03428966 -0.03977831 ... -0.01337997 -0.02057675\n",
      "  -0.01420361]\n",
      " [-0.05378545  0.01675991 -0.02507211 ... -0.00489414 -0.01306588\n",
      "  -0.0166345 ]]\n"
     ]
    }
   ],
   "source": [
    "# Printtaa X data\n",
    "print(X)"
   ]
  },
  {
   "cell_type": "markdown",
   "metadata": {},
   "source": [
    "## Mallinnus"
   ]
  },
  {
   "cell_type": "code",
   "execution_count": 721,
   "metadata": {},
   "outputs": [
    {
     "name": "stdout",
     "output_type": "stream",
     "text": [
      "[1 1 1 0 0 1]\n"
     ]
    }
   ],
   "source": [
    "#Klusterien määrä\n",
    "n_clusters = 2\n",
    "\n",
    "#Kmeans\n",
    "clf = KMeans(n_clusters=n_clusters,max_iter=5000,init=\"k-means++\",n_init=1)#init=\"k-means++\",n_init=1\n",
    "\n",
    "#Klusteroi data\n",
    "labels=clf.fit_predict(X)\n",
    "\n",
    "#Printtaa klusterit\n",
    "print(labels)"
   ]
  },
  {
   "cell_type": "code",
   "execution_count": 722,
   "metadata": {},
   "outputs": [
    {
     "name": "stdout",
     "output_type": "stream",
     "text": [
      "1=['ab', 'abl', 'abner', 'aboard', 'abolitionist', 'abov', 'abram', 'abreast', 'abroad', 'absent']\n",
      "1=['abandon', 'abdomen', 'abe', 'abid', 'abil', 'abject', 'abl', 'abli', 'abnorm', 'aboard']\n",
      "1=['abandon', 'abash', 'abid', 'abl', 'ablaz', 'aboard', 'abound', 'abov', 'abreast', 'abroad']\n",
      "0=['abl', 'abov', 'accid', 'accomplish', 'account', 'across', 'act', 'action', 'actual', 'ad']\n",
      "0=['aback', 'abandon', 'abl', 'abov', 'abroad', 'absenc', 'absolut', 'abstract', 'absurd', 'absurdli']\n",
      "1=['abandon', 'abdic', 'abid', 'abject', 'abl', 'abord', 'abov', 'absenc', 'absolut', 'absorb']\n"
     ]
    }
   ],
   "source": [
    "#Printataan kirjojen klusterointi tulos ja niiden vektorien ensimmäiset 10 sanaa\n",
    "#Mark 1-3 ja Oscar 1-3\n",
    "\n",
    "for index, sentence in enumerate(stemlist):\n",
    "    print(str(labels[index]) + \"=\" + str(sentence[:10]))"
   ]
  },
  {
   "cell_type": "code",
   "execution_count": 723,
   "metadata": {},
   "outputs": [
    {
     "name": "stdout",
     "output_type": "stream",
     "text": [
      "blue  =  Mark1\n",
      "black  =  Mark2\n",
      "green  =  Mark3\n",
      "pink  =  Oscar1\n",
      "brown  =  Oscar2\n",
      "red  =  Oscar3\n"
     ]
    },
    {
     "data": {
      "image/png": "[encoded data removed]",
      "text/plain": [
       "<Figure size 432x288 with 1 Axes>"
      ]
     },
     "metadata": {
      "needs_background": "light"
     },
     "output_type": "display_data"
    }
   ],
   "source": [
    "import matplotlib.pyplot as plt\n",
    "\n",
    "## Plottaa keskittymät ja klusterien keskipisteet\n",
    "pca=PCA(n_components=2).fit(X)\n",
    "coords=pca.transform(X)\n",
    "label_colors = [\"blue\",\"black\",\"green\",\"pink\",\"brown\",\"red\"]\n",
    "kirja_label= [\"Mark1\",\"Mark2\",\"Mark3\",\"Oscar1\",\"Oscar2\",\"Oscar3\"]\n",
    "\n",
    "colors = [label_colors[i] for i in labels]\n",
    "plt.scatter(coords[:,0], coords[:,1], c=label_colors,s=200)\n",
    "centroids= clf.cluster_centers_\n",
    "centroid_coords = pca.transform(centroids)\n",
    "plt.scatter(centroid_coords[:,0], centroid_coords[:,1],marker=\"X\",s=200, linewidth=2, c=\"gray\")\n",
    "plt.show\n",
    "\n",
    "\n",
    "for i in range(len(label_colors)):\n",
    "    print(label_colors[i],\" = \", kirja_label[i])"
   ]
  },
  {
   "cell_type": "code",
   "execution_count": null,
   "metadata": {},
   "outputs": [],
   "source": []
  }
 ],
 "metadata": {
  "kernelspec": {
   "display_name": "Python 3",
   "language": "python",
   "name": "python3"
  },
  "language_info": {
   "codemirror_mode": {
    "name": "ipython",
    "version": 3
   },
   "file_extension": ".py",
   "mimetype": "text/x-python",
   "name": "python",
   "nbconvert_exporter": "python",
   "pygments_lexer": "ipython3",
   "version": "3.7.4"
  }
 },
 "nbformat": 4,
 "nbformat_minor": 2
}
